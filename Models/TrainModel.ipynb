{
  "cells": [
    {
      "cell_type": "markdown",
      "metadata": {
        "colab_type": "text",
        "id": "view-in-github"
      },
      "source": [
        "<a href=\"https://colab.research.google.com/github/shivendrra/SmallLanguageModel-project/blob/main/Final%20Models/Transformer/TransformerFromScratch.ipynb\" target=\"_parent\"><img src=\"https://colab.research.google.com/assets/colab-badge.svg\" alt=\"Open In Colab\"/></a>"
      ]
    },
    {
      "cell_type": "code",
      "execution_count": null,
      "metadata": {},
      "outputs": [],
      "source": [
        "!pip install tiktoken"
      ]
    },
    {
      "cell_type": "code",
      "execution_count": null,
      "metadata": {
        "id": "uI03ZwJAd0bv"
      },
      "outputs": [],
      "source": [
        "import tiktoken\n",
        "\n",
        "pre_encodings = 'p50k_base'\n",
        "pre_model = 'text-davinci-003'\n",
        "class Tokenizer:\n",
        "  def __init__(self, encoding=None, model=None):\n",
        "    self.encodings = encoding if encoding is not None else pre_encodings\n",
        "    self.model = model if model is not None else pre_model\n",
        "    self.tokenizer = tiktoken.get_encoding(self.encodings)\n",
        "    self.tokenizer = tiktoken.encoding_for_model(self.model)\n",
        "  \n",
        "  def encode(self, data):\n",
        "    return self.tokenizer.encode(data)\n",
        "  \n",
        "  def decode(self, tokens):\n",
        "    return self.tokenizer.decode(tokens)\n",
        "  \n",
        "  def get_vocab(self):\n",
        "    return self.tokenizer.n_vocab"
      ]
    },
    {
      "cell_type": "code",
      "execution_count": null,
      "metadata": {
        "colab": {
          "base_uri": "https://localhost:8080/"
        },
        "id": "9l5-90t8d1mz",
        "outputId": "2857e635-9293-4c20-99a8-214b32aae19a"
      },
      "outputs": [
        {
          "name": "stdout",
          "output_type": "stream",
          "text": [
            "Drive already mounted at /content/drive; to attempt to forcibly remount, call drive.mount(\"/content/drive\", force_remount=True).\n"
          ]
        }
      ],
      "source": [
        "from google.colab import drive\n",
        "drive.mount('/content/drive')"
      ]
    },
    {
      "cell_type": "code",
      "execution_count": null,
      "metadata": {
        "colab": {
          "base_uri": "https://localhost:8080/"
        },
        "id": "5Joo9IjTd3l-",
        "outputId": "9962914d-0f35-4005-a20a-e801978b9071"
      },
      "outputs": [
        {
          "name": "stdout",
          "output_type": "stream",
          "text": [
            "30.083569 million words\n"
          ]
        }
      ],
      "source": [
        "# data for training the BPE\n",
        "with open('/content/drive/MyDrive/training_data.txt', 'r', encoding='utf-8') as file:\n",
        "  data = file.read()\n",
        "\n",
        "print(len(data)/1e6, 'million words')"
      ]
    },
    {
      "cell_type": "code",
      "execution_count": null,
      "metadata": {
        "colab": {
          "base_uri": "https://localhost:8080/"
        },
        "id": "cJkfCB8Yd55F",
        "outputId": "44371c69-fc76-4755-dd00-515900cd0f4a"
      },
      "outputs": [
        {
          "name": "stdout",
          "output_type": "stream",
          "text": [
            "total tokens 250.78023 hundred thousand\n"
          ]
        }
      ],
      "source": [
        "from tokenizer import Tokenizer\n",
        "import torch\n",
        "\n",
        "tokenizer = Tokenizer()\n",
        "vocab_size = tokenizer.get_vocab()\n",
        "# Train and test splits\n",
        "data = torch.tensor(tokenizer.encode(data), dtype=torch.long)\n",
        "n = int(0.9*len(data)) # first 90% will be train, rest val\n",
        "train_data = data[:n]\n",
        "val_data = data[n:]"
      ]
    },
    {
      "cell_type": "code",
      "execution_count": null,
      "metadata": {
        "colab": {
          "base_uri": "https://localhost:8080/"
        },
        "id": "4kFBXaeDf0nA",
        "outputId": "77b5f04b-1103-4cf8-f37a-fd44c06b4ac5"
      },
      "outputs": [
        {
          "name": "stdout",
          "output_type": "stream",
          "text": [
            "529\n"
          ]
        }
      ],
      "source": [
        "# hyperparams\n",
        "batch_size = 10\n",
        "block_size = 256\n",
        "max_iters = 5000\n",
        "eval_interval = 100\n",
        "learning_rate = 3e-6\n",
        "eval_iters = 250\n",
        "d_model = 512\n",
        "n_layers = 12\n",
        "n_head = 18\n",
        "dropout = 0.2\n",
        "norm_eps = 1e-5"
      ]
    },
    {
      "cell_type": "code",
      "execution_count": null,
      "metadata": {},
      "outputs": [],
      "source": [
        "import torch.nn as nn\n",
        "from torch.nn import functional as F\n",
        "device = 'cuda' if torch.cuda.is_available() else 'cpu'\n",
        "\n",
        "class RMSNorm(nn.Module):\n",
        "  \"\"\"\n",
        "    using RMS normalization instead of layer norm for better stability while training\n",
        "\n",
        "  Args:\n",
        "    dim (int): dimensions to apply normalizations\n",
        "    eps (float): small floating point no to prevent division by zero\n",
        "  \"\"\"\n",
        "  def __init__(self, dim: int, eps: float = 1e-6):\n",
        "    super().__init__()\n",
        "    self.eps = eps\n",
        "    self.weight = nn.Parameter(torch.ones(dim))\n",
        "\n",
        "  def _norm(self, x):\n",
        "    return x * torch.rsqrt(x.pow(2).mean(-1, keepdim=True) + self.eps)\n",
        "\n",
        "  def forward(self, x):\n",
        "    output = self._norm(x.float()).type_as(x)\n",
        "    return output * self.weight\n",
        "\n",
        "class SingleHead(nn.Module):\n",
        "  \"\"\"\n",
        "    single head of self attention\n",
        "\n",
        "    generates three copies of 'x' -> Wk, Wq, Wv\n",
        "      \n",
        "      `attention matrix = '[Wq . Wk.transpose()]/dim(Wk)**-0.5'`\n",
        "      if masking is True:\n",
        "        [[9, 2, 5, 9, 6]        [[9, 0, 0, 0, 0]\n",
        "         [6, 9, 2, 6, 2]         [6, 9, 0, 0, 0]\n",
        "         [1, 7, 9, 6, 2]  -->    [1, 7, 9, 0, 0]\n",
        "         [8, 3, 2, 9, 2]         [8, 3, 2, 9, 0]\n",
        "         [2, 1, 2, 6, 9]]        [2, 1, 2, 6, 9]]\n",
        "      \n",
        "         `outputs = softmax(attention_matrix) . Wv`\n",
        "\n",
        "  Args:\n",
        "    head_size (int): size of each head for attention\n",
        "    d_model (int): model size dimensions\n",
        "    block_size (int): context size\n",
        "    dropout (float): % of dropout connections\n",
        "  \"\"\"\n",
        "  def __init__(self,\n",
        "      head_size: int,\n",
        "      d_model: int,\n",
        "      block_size: int,\n",
        "      dropout: float):\n",
        "    super().__init__()\n",
        "    self.key = nn.Linear(d_model, head_size, bias=True)\n",
        "    self.query = nn.Linear(d_model, head_size, bias=True)\n",
        "    self.value = nn.Linear(d_model, head_size, bias=True)\n",
        "    self.dropout = nn.Dropout(dropout)\n",
        "    self.register_buffer('tril', torch.tril(torch.ones(block_size, block_size)))\n",
        "\n",
        "  def forward(self, x: torch.Tensor, mask: bool= False):\n",
        "    B, T, C = x.shape\n",
        "    key = self.key(x)\n",
        "    query = self.query(x)\n",
        "    scores = torch.matmul(query ,key.transpose(-2, -1)) / (key.shape[-1]**-0.5)\n",
        "\n",
        "    if mask is True:\n",
        "      scores = scores.masked_fill(self.tril[:T, :T] == 0, float('-inf'))\n",
        "\n",
        "    att_mat = F.softmax(scores, dim=-1)\n",
        "    att_mat = self.dropout(att_mat)\n",
        "    value = self.value(x)\n",
        "    output = torch.matmul(att_mat, value)\n",
        "\n",
        "    return output\n",
        "\n",
        "class MultiHeadAttention(nn.Module):\n",
        "  \"\"\"\n",
        "    multiple head of self-attention running in parallel\n",
        "    outputs are then concatenated into a single matrix\n",
        "\n",
        "  Args:\n",
        "    d_model (int): model size dimensions\n",
        "    block_size (int): context size\n",
        "    n_head (int): no of attention head in parallel\n",
        "    dropout (float): % of dropout connections\n",
        "  \"\"\"\n",
        "  def __init__(self,\n",
        "      d_model: int,\n",
        "      block_size: int,\n",
        "      n_head : int,\n",
        "      dropout: float):\n",
        "    head_size = d_model // n_head\n",
        "    super().__init__()\n",
        "    self.heads = nn.ModuleList([SingleHead(d_model=d_model, dropout=dropout, block_size=block_size, head_size=head_size) for _ in range(n_head)])\n",
        "    self.projection = nn.Linear(head_size * n_head, d_model)\n",
        "    self.dropout = nn.Dropout(dropout)\n",
        "\n",
        "  def forward(self, x: torch.Tensor, mask: bool):\n",
        "    out = torch.cat([h(x, mask) for h in self.heads], dim=-1)\n",
        "    out = self.dropout(self.projection(out))\n",
        "\n",
        "    del x\n",
        "    return out\n",
        "\n",
        "class FeedForward(nn.Module):\n",
        "  \"\"\"\n",
        "    simple feedforward layer using two linear layers and LeakyRelu as activation function\n",
        "    `LeakyRelu(x) = {x, if x >= 0 ; neg_slope*x, otherwise}`\n",
        "    `LeakyReLU(x) = max(0,x) + negative_slope*min(0,x)`\n",
        "  \n",
        "    expansion factor = 5\n",
        "    \n",
        "  Args:\n",
        "    d_model (int): model size dimensions\n",
        "    dropout (float): % of dropout connections\n",
        "  \"\"\"\n",
        "  def __init__(self, d_model, dropout):\n",
        "    super().__init__()\n",
        "    self.net = nn.Sequential(\n",
        "      nn.Linear(d_model, 5 * d_model),\n",
        "      nn.LeakyReLU(),\n",
        "      nn.Linear(5 * d_model, d_model),\n",
        "      nn.Dropout(dropout),\n",
        "      )\n",
        "\n",
        "  def forward(self, x: torch.Tensor):\n",
        "    return self.net(x)\n",
        "\n",
        "class DecoderBlock(nn.Module):\n",
        "  \"\"\"\n",
        "    simple decoder block with one layer of masked attention followed by self attention layer\n",
        "    and feedforward layer finally\n",
        "\n",
        "  Args:\n",
        "    block_size (int): context size\n",
        "    n_head (int): no of attention head in parallel\n",
        "    norm_eps (float): small floating point no to prevent division by zero\n",
        "    dropout (float): % of dropout connections\n",
        "  \"\"\"\n",
        "  def __init__(self, d_model: int,\n",
        "        block_size: int,\n",
        "        n_head: int,\n",
        "        norm_eps: float,\n",
        "        dropout: float):\n",
        "    super().__init__()\n",
        "    self.self_att = MultiHeadAttention(n_head=n_head, d_model=d_model, dropout=dropout, block_size=block_size)\n",
        "    self.ffwd = FeedForward(d_model, dropout)\n",
        "    self.dropout = nn.Dropout(dropout)\n",
        "    self.norm = RMSNorm(d_model, eps=norm_eps)\n",
        "\n",
        "  def forward(self, x: torch.Tensor):\n",
        "    x_out = self.self_att(self.norm(x), mask=True)\n",
        "    x_out = x + self.dropout(x_out)\n",
        "    del x\n",
        "\n",
        "    x = self.self_att(self.norm(x_out), mask=False)\n",
        "    x = x_out + self.dropout(x)\n",
        "    del x_out\n",
        "\n",
        "    x_out = self.ffwd(self.norm(x))\n",
        "    x_out = x + self.dropout(x_out)\n",
        "    del x\n",
        "\n",
        "    return x_out\n",
        "\n",
        "class GPT(nn.Module):\n",
        "  def __init__(self, vocab_size: int):\n",
        "    super().__init__()\n",
        "    self.block_size = block_size\n",
        "    self.tok_embed = nn.Embedding(vocab_size, d_model)\n",
        "    self.pos_embed = nn.Embedding(block_size, d_model)\n",
        "    self.decoder = nn.Sequential(*[DecoderBlock(n_head=n_head, d_model=d_model, dropout=dropout, norm_eps=norm_eps, block_size=block_size) for _ in range(n_layers)])\n",
        "    self.norm_final = RMSNorm(d_model, eps=norm_eps)\n",
        "    self.linear_final = nn.Linear(d_model, vocab_size)\n",
        "    self.dropout = nn.Dropout(dropout)\n",
        "    self.apply(self._init_weights)\n",
        "\n",
        "  def _init_weights(self, module):\n",
        "    if isinstance(module, nn.Linear):\n",
        "      torch.nn.init.normal_(module.weight, mean=0.0, std=0.02)\n",
        "      if module.bias is not None:\n",
        "        torch.nn.init.zeros_(module.bias.data)\n",
        "    elif isinstance(module, nn.Embedding):\n",
        "      torch.nn.init.normal_(module.weight, mean=0.0, std=0.02)\n",
        "\n",
        "  def forward(self, idx, targets=None):\n",
        "    B, T = idx.shape\n",
        "    toks = self.tok_embed(idx)\n",
        "    pos = self.pos_embed(torch.arange(T, device=device))\n",
        "    x = toks + pos\n",
        "\n",
        "    x = self.decoder(x)\n",
        "    logits = self.linear_final(self.norm_final(x))\n",
        "\n",
        "    if targets is None:\n",
        "      loss = None\n",
        "\n",
        "    else:\n",
        "      B, T, C = logits.shape\n",
        "      logits = logits.view(B*T, C)\n",
        "      targets = targets.view(B*T)\n",
        "      loss = F.cross_entropy(logits, targets)\n",
        "\n",
        "    return logits, loss\n",
        "\n",
        "  @torch.no_grad()\n",
        "  def generate(self, idx, max_new_tokens, temperature=1.0, top_k=None):\n",
        "    \"\"\"\n",
        "      generate new tokens using the trained model\n",
        "\n",
        "    Args:\n",
        "      - idx (Tensor): input tensor representing initial token indices\n",
        "      - max_new_tokens (int): max no of new tokens to generate\n",
        "      - temperature (float): softmax temperature for sampling\n",
        "      - top_k (int): no of top tokens to consider in sampling\n",
        "\n",
        "    Returns:\n",
        "      - generated_tokens (list): list of generated token indices\n",
        "    \"\"\"\n",
        "    self.eval()\n",
        "    for _ in range(max_new_tokens):\n",
        "\n",
        "      idx_cond = idx if idx.size(1) <= self.block_size else idx[:, -self.block_size:]\n",
        "      logits, _ = self(idx_cond)\n",
        "      logits = logits[:, -1, :] / temperature\n",
        "\n",
        "      if top_k is not None:\n",
        "        v, _ = torch.topk(logits, min(top_k, logits.size(-1)))\n",
        "        logits[logits < v[:, [-1]]] = -float('Inf')\n",
        "\n",
        "      probs = F.softmax(logits, dim=-1)\n",
        "      idx_next = torch.multinomial(probs, num_samples=1)\n",
        "      idx = torch.cat((idx, idx_next), dim=1)\n",
        "\n",
        "    return idx"
      ]
    },
    {
      "cell_type": "code",
      "execution_count": null,
      "metadata": {
        "id": "gCBK_lF1eCfH"
      },
      "outputs": [],
      "source": [
        "import timeit\n",
        "\n",
        "start_time_2 = timeit.default_timer()"
      ]
    },
    {
      "cell_type": "code",
      "execution_count": null,
      "metadata": {},
      "outputs": [],
      "source": [
        "torch.manual_seed(1400)\n",
        "# data loading\n",
        "def get_batch(split):\n",
        "    # generate a small batch of data of inputs x and targets y\n",
        "    data = train_data if split == 'train' else val_data\n",
        "    ix = torch.randint(len(data) - block_size, (batch_size,))\n",
        "    x = torch.stack([data[i:i+block_size] for i in ix])\n",
        "    y = torch.stack([data[i+1:i+block_size+1] for i in ix])\n",
        "    x, y = x.to(device), y.to(device)\n",
        "    return x, y\n",
        "\n",
        "@torch.no_grad()\n",
        "def estimate_loss():\n",
        "    out = {}\n",
        "    model.eval()\n",
        "    for split in ['train', 'val']:\n",
        "        losses = torch.zeros(eval_iters)\n",
        "        for k in range(eval_iters):\n",
        "            X, Y = get_batch(split)\n",
        "            logits, loss = model(X, Y)\n",
        "            losses[k] = loss.item()\n",
        "        out[split] = losses.mean()\n",
        "    model.train()\n",
        "    return out\n",
        "\n",
        "model = GPT(vocab_size)\n",
        "m = model.to(device)\n",
        "\n",
        "# no of parameters\n",
        "n_param = sum(p.numel() for p in m.parameters())/1e6\n",
        "print(f\"{n_param:.2f} million\")\n",
        "optimizer = torch.optim.AdamW(model.parameters(), lr=learning_rate)\n",
        "steps = []\n",
        "train_losses = []\n",
        "val_losses = []\n",
        "\n",
        "for iter in range(max_iters):\n",
        "\n",
        "  if iter % eval_interval == 0 or iter == max_iters - 1:\n",
        "    losses = estimate_loss()\n",
        "    print(f\"step {iter}: train loss {losses['train']:.4f}, val loss {losses['val']:.4f}\")\n",
        "\n",
        "    steps.append(iter)\n",
        "    train_losses.append(losses['train'])\n",
        "    val_losses.append(losses['val'])\n",
        "\n",
        "  xb, yb = get_batch('train')\n",
        "  logits, loss = model(xb, yb)\n",
        "  optimizer.zero_grad(set_to_none=True)\n",
        "  loss.backward()\n",
        "  optimizer.step()\n",
        "\n",
        "torch.save(model.state_dict(), f'GPT_{n_param:.0f}m.pth')"
      ]
    },
    {
      "cell_type": "code",
      "execution_count": 10,
      "metadata": {
        "colab": {
          "base_uri": "https://localhost:8080/"
        },
        "id": "pm27NbV8e6GX",
        "outputId": "5708bd74-9e7a-42fc-a87d-cc77109746d5"
      },
      "outputs": [
        {
          "name": "stdout",
          "output_type": "stream",
          "text": [
            "time taken to train the model 0.9877082991602778 hrs\n"
          ]
        }
      ],
      "source": [
        "model_train = timeit.default_timer()\n",
        "\n",
        "print(f\"time taken to train the model {(model_train - start_time_2) / 3600 } hrs\")"
      ]
    },
    {
      "cell_type": "code",
      "execution_count": null,
      "metadata": {},
      "outputs": [],
      "source": [
        "# generating output\n",
        "target_text = \"Would you like to tell me your name because \"\n",
        "context = torch.tensor([tokenizer.encode(target_text)], dtype=torch.long, device=device)\n",
        "generated_output = tokenizer.decode(model.generate(context, max_new_tokens=10)[0].tolist())\n",
        "print(generated_output)"
      ]
    },
    {
      "cell_type": "code",
      "execution_count": null,
      "metadata": {
        "colab": {
          "base_uri": "https://localhost:8080/"
        },
        "id": "giCa0cFbezec",
        "outputId": "0e0ea928-c533-476e-8401-0f0dafda6319"
      },
      "outputs": [],
      "source": [
        "model_save_name = f'consolidated-01.pth'\n",
        "path = f\"/content/drive/MyDrive/{model_save_name}\"\n",
        "torch.save(model.state_dict(), path)\n",
        "\n",
        "# saving safe-tensors\n",
        "from safetensors.torch import save_file\n",
        "\n",
        "model_save_name = f'consolidated-01.safetensors'\n",
        "path = f\"/content/drive/MyDrive/{model_save_name}\"\n",
        "save_file(model.state_dict(), path)"
      ]
    },
    {
      "cell_type": "code",
      "execution_count": 17,
      "metadata": {
        "colab": {
          "base_uri": "https://localhost:8080/",
          "height": 504
        },
        "id": "aUR4if4Qe4eQ",
        "outputId": "fe31d7dc-e88e-40ec-f1c4-bcadc5ce1d8d"
      },
      "outputs": [
        {
          "data": {
            "image/png": "[encoded data removed]",
            "text/plain": [
              "<Figure size 1000x600 with 1 Axes>"
            ]
          },
          "metadata": {},
          "output_type": "display_data"
        }
      ],
      "source": [
        "import matplotlib.pyplot as plt\n",
        "\n",
        "plt.figure(figsize=(10, 6))\n",
        "plt.plot(steps, train_losses, label='Train Loss')\n",
        "plt.plot(steps, val_losses, label='Validation Loss')\n",
        "plt.title('Loss Over Steps')\n",
        "plt.xlabel('Steps')\n",
        "plt.ylabel('Loss')\n",
        "plt.legend()\n",
        "plt.show()"
      ]
    }
  ],
  "metadata": {
    "accelerator": "GPU",
    "colab": {
      "authorship_tag": "ABX9TyN3cx4FaQVLg7XtwX7MICYA",
      "gpuType": "T4",
      "include_colab_link": true,
      "provenance": []
    },
    "kernelspec": {
      "display_name": "Python 3",
      "name": "python3"
    },
    "language_info": {
      "name": "python"
    }
  },
  "nbformat": 4,
  "nbformat_minor": 0
}
