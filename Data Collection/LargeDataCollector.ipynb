{
  "cells": [
    {
      "cell_type": "markdown",
      "metadata": {
        "colab_type": "text",
        "id": "view-in-github"
      },
      "source": [
        "<a href=\"https://colab.research.google.com/github/shivendrra/SmallLanguageModel-project/blob/main/Data%20Collection/LargeDataCollector.ipynb\" target=\"_parent\"><img src=\"https://colab.research.google.com/assets/colab-badge.svg\" alt=\"Open In Colab\"/></a>"
      ]
    },
    {
      "cell_type": "code",
      "execution_count": null,
      "metadata": {
        "id": "AapZLRdU5i3u"
      },
      "outputs": [],
      "source": [
        "# run this first always!\n",
        "!pip install python-dotenv\n",
        "!pip install youtube-transcript-api"
      ]
    },
    {
      "cell_type": "code",
      "execution_count": null,
      "metadata": {
        "id": "7l_mZneW5o7N"
      },
      "outputs": [],
      "source": [
        "import timeit\n",
        "start_time = timeit.default_timer()"
      ]
    },
    {
      "cell_type": "code",
      "execution_count": null,
      "metadata": {
        "id": "OClda9dg5rsZ"
      },
      "outputs": [],
      "source": [
        "channel_Id_Json  = [\n",
        "  \"UCb_MAhL8Thb3HJ_wPkH3gcw\", #phil edwards\n",
        "  \"UCA295QVkf9O1RQ8_-s3FVXg\", #aevy tv\n",
        "  \"UCpFFItkfZz1qz5PpHpqzYBw\", #nexpo\n",
        "  \"UCY1kMZp36IQSyNx_9h4mpCg\", #mark robber\n",
        "  \"UCA19mAJURyYHbJzhfpqhpCA\", #action lab shorts\n",
        "  \"UCddiUEpeqJcYeBxX1IVBKvQ\", #the verge\n",
        "  \"UCcefcZRL2oaA_uBNeo5UOWg\", #y-combinator\n",
        "  \"UCsQoiOrh7jzKmE8NBofhTnQ\", #varun mayya\n",
        "  \"UCLXo7UDZvByw2ixzpQCufnA\", #vox\n",
        "  \"UCUyvQV2JsICeLZP4c_h40kA\", #thomas flight\n",
        "  \"UCvjgXvBlbQiydffZU7m1_aw\", #the coding train\n",
        "  \"UCRI00CwLZdLRCWg5BdDOsNw\", #canadian lad\n",
        "  \"UCEIwxahdLz7bap-VDs9h35A\", #steve mould\n",
        "  \"UC4bq21IPPbpu0Qrsl7LW0sw\", #slidebean\n",
        "  \"UCR1IuLEqb6UEA_zQ81kwXfg\", #real engineering\n",
        "  \"UCIlU5KDHKFSaebYviKfOidw\", #newsthink\n",
        "  \"UCtYKe7-XbaDjpUwcU5x0bLg\", #neo\n",
        "  \"UCBJycsmduvYEL83R_U4JriQ\", #mkbdh\n",
        "  \"UCRcgy6GzDeccI7dkbbBna3Q\", #lemmino\n",
        "  \"UC3_BakzLfadvFrsnClMFWmQ\", #john coogan\n",
        "  \"UCmGSJVG3mCRXVOP4yZrU1Dw\", #johnny harris\n",
        "  \"UCFN6lQpfY8XIRdhv9G-f4bg\", #henry belcaster\n",
        "  \"UConJDkGk921yT9hISzFqpzw\", #freethink\n",
        "  \"UClWTCPVi-AU9TeCN6FkGARg\", #EO\n",
        "  \"UCqnbDFdCpuN8CMEg0VuEBqA\", #new york times\n",
        "  \"UCyHJ94JzwY92NsBVzJ2aE3Q\", #econ\n",
        "  \"UCTqEu1wZDBju2tHkNP1dwzQ\", #earthrise\n",
        "  \"UC6nSFpj9HTCZ5t-N3Rm3-HA\", #vsauce\n",
        "  \"UCX6b17PVsYBQ0ip5gyeme-Q\", #crash course\n",
        "  \"UCONtPx56PSebXJOxbFv-2jQ\", #crash course kids\n",
        "  \"UCZYTClx2T1of7BRZ86-8fow\", #sci show\n",
        "  \"UCzWQYUVCpZqtN93H8RR44Qw\", #seeker\n",
        "  \"UCYbK_tjZ2OrIZFBvU6CCMiA\", #brackeys\n",
        "  \"UCxzC4EngIsMrPmbm6Nxvb-A\", #scott manley\n",
        "  \"UCcabW7890RKJzL968QWEykA\", #CS 50\n",
        "  \"UCamLstJyCa-t5gfZegxsFMw\", #colin and samir\n",
        "  \"UC415bOPUcGSamy543abLmRA\", #cleo abraham\n",
        "  \"UCpMcsdZf2KkAnfmxiq2MfMQ\", #arvin ash\n",
        "  \"UCqVEHtQoXHmUCfJ-9smpTSg\", #answer in progress\n",
        "  \"UCYO_jab_esuFRV4b17AJtAw\", #3blue1brown\n",
        "  \"UCHnyfMqiRRG1u-2MsSQLbXA\", #veritasium\n",
        "  \"UCsXVk37bltHxD1rDPwtNM8Q\", #kurzgesagt\n",
        "  \"UC9RM-iSvTu1uPJb8X5yp3EQ\", #wendover\n",
        "  \"UCZaT_X_mc0BI-djXOlfhqWQ\", #vice news\n",
        "  \"UCMiJRAwDNSNzuYeN2uWa0pA\", #mrwhosetheboss\n",
        "  \"UCHpw8xwDNhU9gdohEcJu4aA\", #theguardian\n",
        "  \"UCK7tptUDHh-RYDsdxO1-5QQ\", #wallstreetjournal\n",
        "  \"UCsooa4yRKGN_zEE8iknghZA\", #ted-ed\n",
        "  \"UC6n8I1UDTKP1IWjQMg6_TwA\", #b1m\n",
        "  \"UC8butISFwT-Wl7EV0hUK0BQ\", #free code camp\n",
        "  \"UCgRQHK8Ttr1j9xCEpCAlgbQ\", #variety\n",
        "  \"UCcIXc5mJsHVYTZR1maL5l9w\", #andrew ng\n",
        "  \"UCEBb1b_L6zDS3xTUrIALZOw\", #mit opencourseware\n",
        "  \"UCN0QBfKk0ZSytyX_16M11fA\", #mit openlearning\n",
        "  \"UCBpxspUNl1Th33XbugiHJzw\", #mit csail\n",
        "  \"UC3osNjJeuDdvyALIEP-nh0g\", #behind the curtain\n",
        "  \"UCaSCt8s_4nfkRglWCvNSDrg\", #code aesthetics\n",
        "  \"UCjgpFI5dU-D1-kh9H1muoxQ\", #hacksmith\n",
        "  \"UCBa659QWEk1AI4Tg--mrJ2A\", #tom scott\n",
        "  \"UCftwRNsjfRo08xYE31tkiyw\", #wired\n",
        "  \"UCdBK94H6oZT2Q7l0-b0xmMg\", #shortcircuit\n",
        "  \"UCBA9cAuPy9L5IYYXqOduIvw\", #encyclopedia britannica\n",
        "  \"UCXjmz8dFzRJZrZY8eFiXNUQ\", #nerdstalgic\n",
        "  \"UClZbmi9JzfnB2CEb0fG8iew\", #primal space\n",
        "  \"UCUFoQUaVRt3MVFxqwPUMLCQ\", #studio binder\n",
        "  \"UCgLxmJ8xER7Y7sywMN5SfWg\", #underfitted\n",
        "  \"UCac1MisHGa0qtzf0oWlU8Zw\", #unpredictable\n",
        "  \"UCSIvk78tK2TiviLQn4fSHaw\", #up and atom\n",
        "  \"UCUyvQV2JsICeLZP4c_h40kA\", #thomas flight\n",
        "  \"UCqFzWxSCi39LnW1JKFR3efg\", #SNL\n",
        "  \"UCqFzWxSCi39LnW1JKFR3efg\", #peacock\n",
        "  \"UCccjdJEay2hpb5scz61zY6Q\", #NBC\n",
        "  \"UC8CX0LD98EDXl4UYX1MDCXg\", #valorant\n",
        "  \"UC6VcWc1rAoWdBCM0JxrRQ3A\", #rockstar games\n",
        "  \"UCSHZKyawb77ixDdsGog4iWA\", #lex fridman\n",
        "  \"UCVHdvAX5-R8y5l9xp6nroBQ\", #vergecast\n",
        "  \"UCTb6Oy0TXI03iEUdRMR9dnw\", #stuff you should know\n",
        "  \"UCqoAEDirJPjEUFcF2FklnBA\", #star talk\n",
        "  \"UCccjdJEay2hpb5scz61zY6Q\", #lily singh\n",
        "  \"UCNVBYBxWj9dMHqKEl_V8HBQ\", #comedy central\n",
        "  \"UCNVBYBxWj9dMHqKEl_V8HBQ\", #jimmy fallon\n",
        "  \"UCb-vZWBeWA5Q2818JmmJiqQ\", #oscars\n",
        "  \"UChDKyKQ59fYz3JO2fl0Z6sg\", #today\n",
        "  \"UCupvZG-5ko_eiXAupbDfxWw\", #cnn\n",
        "  \"UCDrLGkZTcNCshOLiKi5NtEw\", #wgn-news\n",
        "  \"UCWOA1ZGywLbqmigxE4Qlvuw\", #netflix\n",
        "  \"UCrM7B7SL_g1edFOnmj-SDKg\", #bloomberg technology\n",
        "  \"UCUMZ7gohGI9HcU9VNsr2FJQ\", #bloomberg originals\n",
        "  \"UCF9imwPMSGz4Vq1NiTWCC7g\", #Paramount pictures\n",
        "  \"UCjmJDM5pRKbUlVIzDYYWb6g\", #warner bros pics\n",
        "  \"UCrRttZIypNTA1Mrfwo745Sg\", #paramount plus\n",
        "  \"UC0k238zFx-Z8xFH0sxCrPJg\", #architectural digest\n",
        "  \"UCT9zcQNlyht7fRlcjmflRSA\", #imagine dragons\n",
        "  \"UC0C-w0YjGpqDXGB8IHb662A\", #ed sheeran\n",
        "  \"UCgQna2EqpzqzfBjlSmzT72w\", #maneskin\n",
        "  \"UCeLHszkByNZtPKcaVXOCOQQ\", #Post Malone\n",
        "  \"UCjNRJBlxvvS0UXAT2Ack-QQ\", #zara larsoon\n",
        "  \"UC-J-KZfRV8c13fOCkhXdLiQ\", #dua lipa\n",
        "  \"UCfM3zsQsOnfWNUppiycmBuw\", #eminem\n",
        "  \"UCNjHgaLpdy1IMNK57pYiKiQ\", #aurora\n",
        "  \"UCqECaJ8Gagnn7YCbPEzWH6g\", #taylor swift\n",
        "  \"UCb2HGwORFBo94DmRx4oLzow\", #one direction\n",
        "  \"UCi4EDAgjULwwNBHOg1aaCig\", #one republic\n",
        "  \"UCDPM_n1atn2ijUwHd0NNRQw\", #coldplay\n",
        "  \"UCcgqSM4YEo5vVQpqwN-MaNw\", #rihanna\n",
        "  \"UCoUM-UJ7rirJYP8CQ0EIaHA\", #bruno mars\n",
        "  \"UC0WP5P-ufpRfjbNrmOWwLBQ\", #weekend\n",
        "  \"UCBVjMGOIkavEAhyqpxJ73Dw\", #maroon 5\n",
        "  \"UCPHjpfnnGklkRBBTd0k6aHg\", #avicii\n",
        "  \"UCmHhviensDlGQeU8Yo80zdg\", #dr dre\n",
        "  \"UC6IBMCQ6-d7p41KHxOsq4RA\", #akon\n",
        "  \"UCiMhD4jzUqG-IgPzUmmytRQ\", #queens\n",
        "  \"UCB0JSO6d5ysH2Mmqz5I9rIw\", #ac/dc\n",
        "  \"UCnEiGCE13SUI7ZvojTAVBKw\", #bill gates\n",
        "]"
      ]
    },
    {
      "cell_type": "code",
      "execution_count": null,
      "metadata": {
        "id": "OFJpbekO5tab"
      },
      "outputs": [],
      "source": [
        "import json\n",
        "from dotenv import load_dotenv\n",
        "import os\n",
        "\n",
        "load_dotenv()\n",
        "api_key = os.getenv('yt_secret_key')"
      ]
    },
    {
      "cell_type": "code",
      "execution_count": null,
      "metadata": {
        "id": "3xB6aQ5O5wMJ"
      },
      "outputs": [],
      "source": [
        "from googleapiclient.discovery import build\n",
        "from youtube_transcript_api import TranscriptsDisabled, YouTubeTranscriptApi\n",
        "import logging\n",
        "\n",
        "logging.basicConfig(filename='youtube_fetch.log', level=logging.ERROR)\n",
        "youtube = build('youtube', 'v3', developerKey=api_key)"
      ]
    },
    {
      "cell_type": "code",
      "execution_count": null,
      "metadata": {
        "id": "tOr_lkpp5xz3"
      },
      "outputs": [],
      "source": [
        "import timeit\n",
        "\n",
        "start_time = timeit.default_timer()\n",
        "\n",
        "videoNo = 0\n",
        "for links in channel_Id_Json:\n",
        "  next_page_token = None\n",
        "  videoIds = []\n",
        "\n",
        "  while True:\n",
        "    channelRes = youtube.channels().list(\n",
        "      part='contentDetails', id=links\n",
        "    ).execute()\n",
        "\n",
        "    if 'items' in channelRes and channelRes['items']:\n",
        "      playlistId = channelRes['items'][0]['contentDetails']['relatedPlaylists']['uploads']\n",
        "\n",
        "      playlistResult = youtube.playlistItems().list(\n",
        "        part='contentDetails', playlistId=playlistId,\n",
        "        maxResults = 100, pageToken = next_page_token\n",
        "      ).execute()\n",
        "\n",
        "      videoIds.extend([item['contentDetails']['videoId'] for item in playlistResult.get('items', [])])\n",
        "\n",
        "      next_page_token = playlistResult.get('nextPageToken')\n",
        "\n",
        "      if not next_page_token:\n",
        "        break\n",
        "\n",
        "  for ids in videoIds:\n",
        "    videoUrl = f\"https://www.youtube.com/watch?v={ids}\"\n",
        "    try:\n",
        "      raw_transcripts = []\n",
        "      try:\n",
        "        captions = YouTubeTranscriptApi.get_transcript(\n",
        "          ids, languages=['en'], preserve_formatting=True\n",
        "        )\n",
        "        if captions:\n",
        "          formatted_captions = [{'text': caption['text']} for caption in captions]\n",
        "          raw_transcripts.append(formatted_captions)\n",
        "          videoNo += 1\n",
        "          print(f\"Number of videos with valid captions are: {videoNo}\")\n",
        "        else:\n",
        "          continue\n",
        "      except TranscriptsDisabled as e:\n",
        "        print(F\"There was an error while getting the captions: {e}\")\n",
        "      except Exception as e:\n",
        "        logging.error(f\"There was some error while fetching the video: {str(e)}\")\n",
        "    except Exception as e:\n",
        "      logging.error(f\"There was some error while getting the captions: {str(e)}\")\n",
        "\n",
        "    with open('new_training_data.txt', 'a', encoding='utf-8') as file:\n",
        "      for videoCaptions in raw_transcripts:\n",
        "        for line in videoCaptions:\n",
        "          file.write(line['text'] + ' ')\n",
        "\n",
        "print(f\"time taken to execute the code is {(timeit.default_timer() - start_time) / 60} mins\")"
      ]
    },
    {
      "cell_type": "code",
      "execution_count": null,
      "metadata": {
        "id": "dl8MlyXb50pv"
      },
      "outputs": [],
      "source": [
        "data_coll = timeit.default_timer()\n",
        "print(f\"time taken to fetch and write the data {(data_coll - start_time) / 3600} hrs\")"
      ]
    }
  ],
  "metadata": {
    "colab": {
      "authorship_tag": "ABX9TyNfQOyEHj8DWNF8YjwrY3hd",
      "include_colab_link": true,
      "provenance": []
    },
    "kernelspec": {
      "display_name": "Python 3",
      "name": "python3"
    },
    "language_info": {
      "name": "python"
    }
  },
  "nbformat": 4,
  "nbformat_minor": 0
}
